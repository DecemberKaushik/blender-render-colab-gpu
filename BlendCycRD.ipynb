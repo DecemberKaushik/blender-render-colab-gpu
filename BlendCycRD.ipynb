{
  "nbformat": 4,
  "nbformat_minor": 0,
  "metadata": {
    "colab": {
      "name": "BlendCycRD.ipynb",
      "private_outputs": true,
      "provenance": [],
      "collapsed_sections": []
    },
    "kernelspec": {
      "name": "python3",
      "display_name": "Python 3"
    },
    "accelerator": "GPU"
  },
  "cells": [
    {
      "cell_type": "markdown",
      "metadata": {
        "id": "UHgkttPIpAol"
      },
      "source": [
        "#Install Blender and some required libraries (README)\n",
        "Before that you need to mount your Google Drive.\n",
        " \n",
        "##How to mount Google Drive\n",
        " \n",
        "###On desktop:\n",
        "Click the folder icon on left side vertical bar, then click on the folder with symbol of Google Drive\n",
        " \n",
        "###On mobile:\n",
        "Open side navigation and click 'Show file browser', then click on the folder with the symbol of Google Drive\n",
        " \n",
        "Then goto Edit, Notebook Settings and select Hardware Accelerator as GPU and save it, else it will not work.\n",
        "After that run the first cell to install Blender.\n",
        " \n",
        "##NOTE: Notebooks run by connecting to virtual machines that have maximum lifetimes that can be as much as 12 hours. Notebooks will also disconnect from VMs when left idle for too long and you won't be able to use GPU for a while. After rendering is completed, go to 'Runtime', then 'Manage Session' and terminate the session by clicking on the dustbin button along with current running session."
      ]
    },
    {
      "cell_type": "code",
      "metadata": {
        "id": "fqfgm4hoB_6I"
      },
      "source": [
        "#@title Alternatively, you can mount Google Drive using this cell (optional if you already did via above method) { display-mode: \"form\" }\n",
        "from google.colab import drive\n",
        "drive.mount('/content/drive')"
      ],
      "execution_count": null,
      "outputs": []
    },
    {
      "cell_type": "code",
      "metadata": {
        "id": "5PdCfkHQkZYK"
      },
      "source": [
        "#@title Install Blender and required libraries { display-mode: \"form\" }\n",
        " \n",
        "#Downloads Blender\n",
        "!wget https://download.blender.org/release/Blender2.91/blender-2.91.0-linux64.tar.xz\n",
        " \n",
        "#Installs Blender\n",
        "!tar xf blender-2.91.0-linux64.tar.xz\n",
        "!rm blender-2.91.0-linux64.tar.xz\n",
        " \n",
        "#Download some required libraries\n",
        "!apt install libboost-all-dev\n",
        "!apt install libgl1-mesa-dev\n",
        " \n",
        "f=open(\"set_gpu.py\", \"w+\")\n",
        "f.write(\"\"\"\n",
        "import bpy\n",
        "def enable_gpus(device_type, use_cpus=False):\n",
        "    preferences = bpy.context.preferences\n",
        "    cycles_preferences = preferences.addons[\"cycles\"].preferences\n",
        "    cuda_devices, opencl_devices = cycles_preferences.get_devices()\n",
        " \n",
        "    if device_type == \"CUDA\":\n",
        "        devices = cuda_devices\n",
        "    elif device_type == \"OPENCL\":\n",
        "        devices = opencl_devices\n",
        "    else:\n",
        "        raise RuntimeError(\"Unsupported device type\")\n",
        " \n",
        "    activated_gpus = []\n",
        " \n",
        "    for device in devices:\n",
        "        if device.type == \"CPU\":\n",
        "            device.use = use_cpus\n",
        "        else:\n",
        "            device.use = True\n",
        "            activated_gpus.append(device.name)\n",
        " \n",
        "    cycles_preferences.compute_device_type = device_type\n",
        "    bpy.context.scene.cycles.device = \"GPU\"\n",
        " \n",
        "    return activated_gpus\n",
        "enable_gpus(\"CUDA\")\n",
        "\"\"\")\n",
        "f.close()"
      ],
      "execution_count": null,
      "outputs": []
    },
    {
      "cell_type": "markdown",
      "metadata": {
        "id": "Q8bn6LNdplW9"
      },
      "source": [
        "#Filepath and Output\n",
        "##Enter the path for input and output\n",
        " \n",
        "For file_path: mention the folder where the .blend file is stored. \n",
        " \n",
        "Example: Blend/file.blend\n",
        " \n",
        " \n",
        "_(You don't need to write drive/MyDrive/Blend/file since it is written in the code)_\n",
        " \n",
        " \n",
        "For out_path: mention the folder (with filename [optional])\n",
        " \n",
        "Example: Blend/output_foldername/filename (no extension like .jpg or .png)"
      ]
    },
    {
      "cell_type": "code",
      "metadata": {
        "id": "yngHCMFzenUN"
      },
      "source": [
        "#@title Blender Cycles Render { display-mode: \"form\" }\n",
        " \n",
        "#@markdown ### Enter the file path:\n",
        "file_path = \"Blend/someroom.blend\" #@param {type:\"string\"}\n",
        "filename = \"drive/MyDrive/\"+file_path\n",
        "print('Input directory: ',filename)\n",
        "#@markdown ### Enter the file path:\n",
        "out_path = \"Blend/output/\" #@param {type:\"string\"}\n",
        "output = \"drive/MyDrive/\"+out_path\n",
        "print('Output directory: ',output)"
      ],
      "execution_count": null,
      "outputs": []
    },
    {
      "cell_type": "markdown",
      "metadata": {
        "id": "C5Om8fno3m1Y"
      },
      "source": [
        "#Select file type for single frame render\n",
        "First select file output type from the dropdown and run 'Output Type' cell. After that run 'Start Rendering' cell."
      ]
    },
    {
      "cell_type": "code",
      "metadata": {
        "id": "QMxKWloc09-F"
      },
      "source": [
        "#@title Output Type { display-mode: \"form\" }\n",
        " \n",
        "otype = \"PNG\" #@param [\"PNG\",\"JPEG\", \"BMP\", \"IRIS\", \"IRIZ\", \"AVIRAW\", \"TGA\", \"RAWTGA\", \"AVIJPEG\"]\n",
        "print(\"Selected: \",otype)\n",
        " \n",
        "frame_no = 1 #@param {type:\"number\"}"
      ],
      "execution_count": null,
      "outputs": []
    },
    {
      "cell_type": "code",
      "metadata": {
        "id": "xOM9jqw14fTZ"
      },
      "source": [
        "#@title Start Rendering { display-mode: \"form\" }\n",
        "#@markdown ###Note: After the render is finished, the output will be saved in the output directory mentioned above. After that Blender will be uninstalled for saving space\n",
        " \n",
        "!sudo ./blender-2.91.0-linux64/blender -b $filename -noaudio -P ./set_gpu.py -o $output -E 'CYCLES' -f $frame_no -F $otype\n",
        "#This will uninstall Blender after the render\n",
        "!rm -rf ./blender-2.91.0-linux64\n",
        "!rm set_gpu.py"
      ],
      "execution_count": null,
      "outputs": []
    }
  ]
}